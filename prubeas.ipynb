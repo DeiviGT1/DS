{
 "cells": [
  {
   "cell_type": "code",
   "execution_count": 1,
   "metadata": {},
   "outputs": [],
   "source": [
    "import pandas as pd\n",
    "from webdriver_manager.chrome import ChromeDriverManager\n",
    "from selenium import webdriver\n",
    "from selenium.webdriver.common.by import By\n",
    "import time\n",
    "import json\n",
    "import re\n",
    "from matplotlib import pyplot as plt\n",
    "import numpy as np\n",
    "import os "
   ]
  },
  {
   "cell_type": "code",
   "execution_count": 7,
   "metadata": {},
   "outputs": [],
   "source": [
    "with open('./info/json_resultados_historicos.json') as file:\n",
    "  data = json.load(file)\n"
   ]
  },
  {
   "cell_type": "code",
   "execution_count": 17,
   "metadata": {},
   "outputs": [],
   "source": [
    "a = []\n",
    "for i in data[\"Resultados\"]:\n",
    "  if i[\"rival\"] not in a:\n",
    "    a.append(i[\"rival\"])"
   ]
  },
  {
   "cell_type": "code",
   "execution_count": 18,
   "metadata": {},
   "outputs": [
    {
     "data": {
      "text/plain": [
       "['Independiente Santa Fe',\n",
       " 'Millonarios',\n",
       " 'Boyacá Chicó',\n",
       " 'Once Caldas',\n",
       " 'Cerro Porteño',\n",
       " 'Atlético Nacional',\n",
       " 'Fortaleza CEIF',\n",
       " 'Deportes Tolima',\n",
       " 'Alianza Petrolera',\n",
       " 'Santa Cruz',\n",
       " 'Rionegro Águilas',\n",
       " 'Jaguares de Córdoba',\n",
       " 'Sportivo Luqueño',\n",
       " 'Deportivo Pasto',\n",
       " 'Bucaramanga',\n",
       " 'Atlético Junior',\n",
       " 'Universidad Católica (Quito)',\n",
       " 'Patriotas',\n",
       " 'Deportivo Cali',\n",
       " 'Valledupar FC',\n",
       " 'Atlético Huila',\n",
       " 'La Equidad',\n",
       " 'Cortuluá',\n",
       " 'Envigado',\n",
       " 'América de Cali',\n",
       " 'Tigres',\n",
       " 'Racing Club',\n",
       " 'River Plate',\n",
       " 'Emelec',\n",
       " 'Melgar',\n",
       " 'Leones',\n",
       " 'Sol de América',\n",
       " 'Cúcuta Deportivo',\n",
       " 'Unión Magdalena',\n",
       " 'Peñarol',\n",
       " 'Pachuca',\n",
       " 'Palestino',\n",
       " 'Deportes Quindío',\n",
       " 'Deportivo Pereira',\n",
       " 'Libertad',\n",
       " 'Caracas FC',\n",
       " 'Boca Juniors',\n",
       " 'Atlético Tucumán',\n",
       " 'Deportivo Táchira',\n",
       " 'Guaireña',\n",
       " 'Internacional',\n",
       " '9 de Octubre']"
      ]
     },
     "execution_count": 18,
     "metadata": {},
     "output_type": "execute_result"
    }
   ],
   "source": [
    "a"
   ]
  },
  {
   "cell_type": "code",
   "execution_count": null,
   "metadata": {},
   "outputs": [],
   "source": []
  }
 ],
 "metadata": {
  "kernelspec": {
   "display_name": "Python 3.9.6 ('venv': venv)",
   "language": "python",
   "name": "python3"
  },
  "language_info": {
   "codemirror_mode": {
    "name": "ipython",
    "version": 3
   },
   "file_extension": ".py",
   "mimetype": "text/x-python",
   "name": "python",
   "nbconvert_exporter": "python",
   "pygments_lexer": "ipython3",
   "version": "3.8.8"
  },
  "orig_nbformat": 4,
  "vscode": {
   "interpreter": {
    "hash": "034bbb7a0d4ead09c587395bc91a01e0c6a8732c95c0845c90e8491e6df32e84"
   }
  }
 },
 "nbformat": 4,
 "nbformat_minor": 2
}
