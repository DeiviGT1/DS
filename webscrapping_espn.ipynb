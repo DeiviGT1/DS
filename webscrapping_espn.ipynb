{
 "cells": [
  {
   "cell_type": "code",
   "execution_count": 3,
   "metadata": {},
   "outputs": [],
   "source": [
    "import pandas as pd\n",
    "from webdriver_manager.chrome import ChromeDriverManager\n",
    "import requests\n",
    "from selenium import webdriver\n",
    "from bs4 import BeautifulSoup as bs\n",
    "from selenium.webdriver.common.by import By"
   ]
  },
  {
   "cell_type": "code",
   "execution_count": 4,
   "metadata": {},
   "outputs": [
    {
     "name": "stderr",
     "output_type": "stream",
     "text": [
      "[WDM] - Downloading: 100%|██████████| 8.04M/8.04M [00:00<00:00, 14.0MB/s]\n",
      "/var/folders/7w/8qf5bbc50jq9d08zwwpw3z900000gn/T/ipykernel_10182/1745973345.py:4: DeprecationWarning: executable_path has been deprecated, please pass in a Service object\n",
      "  driver = webdriver.Chrome(ChromeDriverManager().install(), options=options)\n"
     ]
    }
   ],
   "source": [
    "url = \"https://www.espn.com.co/futbol/equipo/estadisticas/_/id/2690/liga/COL.1/vista/anotaciones\"\n",
    "options = webdriver.ChromeOptions()\n",
    "options.add_experimental_option('excludeSwitches', ['enable-logging'])\n",
    "driver = webdriver.Chrome(ChromeDriverManager().install(), options=options)"
   ]
  },
  {
   "cell_type": "code",
   "execution_count": 5,
   "metadata": {},
   "outputs": [],
   "source": [
    "driver.get(url)"
   ]
  },
  {
   "cell_type": "code",
   "execution_count": 12,
   "metadata": {},
   "outputs": [
    {
     "name": "stdout",
     "output_type": "stream",
     "text": [
      "[<selenium.webdriver.remote.webelement.WebElement (session=\"13f0699b80e5ee5b63c4def1f289c787\", element=\"9a3e94a1-181c-453d-8795-1dd705f349ea\")>, <selenium.webdriver.remote.webelement.WebElement (session=\"13f0699b80e5ee5b63c4def1f289c787\", element=\"9d30c11c-bd15-4478-9cd8-2fad6c8d834b\")>, <selenium.webdriver.remote.webelement.WebElement (session=\"13f0699b80e5ee5b63c4def1f289c787\", element=\"49611920-69f2-4037-a102-7b718565819b\")>, <selenium.webdriver.remote.webelement.WebElement (session=\"13f0699b80e5ee5b63c4def1f289c787\", element=\"b9533603-067d-4c8e-b764-f64603910381\")>, <selenium.webdriver.remote.webelement.WebElement (session=\"13f0699b80e5ee5b63c4def1f289c787\", element=\"3cff29b1-672a-4fad-bb26-316ea938f70b\")>, <selenium.webdriver.remote.webelement.WebElement (session=\"13f0699b80e5ee5b63c4def1f289c787\", element=\"2ad0cefc-86fc-4ae0-a235-f3fe0c00796c\")>, <selenium.webdriver.remote.webelement.WebElement (session=\"13f0699b80e5ee5b63c4def1f289c787\", element=\"31ae2534-3a3e-4dfd-a668-76d10e6587b8\")>, <selenium.webdriver.remote.webelement.WebElement (session=\"13f0699b80e5ee5b63c4def1f289c787\", element=\"dbe805ca-7420-4fd9-a115-a8f615e2990b\")>, <selenium.webdriver.remote.webelement.WebElement (session=\"13f0699b80e5ee5b63c4def1f289c787\", element=\"d040af8d-bdb2-4d32-a69e-d88d12366970\")>, <selenium.webdriver.remote.webelement.WebElement (session=\"13f0699b80e5ee5b63c4def1f289c787\", element=\"2951e4be-f164-4091-a0c9-7885085eea5f\")>, <selenium.webdriver.remote.webelement.WebElement (session=\"13f0699b80e5ee5b63c4def1f289c787\", element=\"76863380-7ea7-4b0a-b335-bebbc3587f70\")>, <selenium.webdriver.remote.webelement.WebElement (session=\"13f0699b80e5ee5b63c4def1f289c787\", element=\"0c7c079c-69d7-4b35-ab00-833f151af138\")>, <selenium.webdriver.remote.webelement.WebElement (session=\"13f0699b80e5ee5b63c4def1f289c787\", element=\"26801d2b-1b4c-4030-8ffc-aa07e32f4f2b\")>, <selenium.webdriver.remote.webelement.WebElement (session=\"13f0699b80e5ee5b63c4def1f289c787\", element=\"36b126bf-62e7-43cc-ae14-b51ae417464b\")>, <selenium.webdriver.remote.webelement.WebElement (session=\"13f0699b80e5ee5b63c4def1f289c787\", element=\"fe99141f-8fb3-4cec-9bba-9f5ffa75bf28\")>, <selenium.webdriver.remote.webelement.WebElement (session=\"13f0699b80e5ee5b63c4def1f289c787\", element=\"7a0400de-2f50-4403-8fd6-cc518492b810\")>, <selenium.webdriver.remote.webelement.WebElement (session=\"13f0699b80e5ee5b63c4def1f289c787\", element=\"c25915f6-8302-4af5-b51c-1b0cdf69703f\")>, <selenium.webdriver.remote.webelement.WebElement (session=\"13f0699b80e5ee5b63c4def1f289c787\", element=\"37954b86-82a4-4c06-9aa4-c97a725d1c30\")>, <selenium.webdriver.remote.webelement.WebElement (session=\"13f0699b80e5ee5b63c4def1f289c787\", element=\"78f62417-e40a-40bb-ac27-1238d23bc778\")>, <selenium.webdriver.remote.webelement.WebElement (session=\"13f0699b80e5ee5b63c4def1f289c787\", element=\"60220b4a-336a-4339-8174-1ff749071496\")>, <selenium.webdriver.remote.webelement.WebElement (session=\"13f0699b80e5ee5b63c4def1f289c787\", element=\"a6c881e0-7ab4-4619-bb7b-c34707b82b06\")>, <selenium.webdriver.remote.webelement.WebElement (session=\"13f0699b80e5ee5b63c4def1f289c787\", element=\"13e9940a-876e-4408-b28c-1c0c0188b39a\")>, <selenium.webdriver.remote.webelement.WebElement (session=\"13f0699b80e5ee5b63c4def1f289c787\", element=\"14604cfc-a325-46bd-8fe2-8f09dc6d6a16\")>, <selenium.webdriver.remote.webelement.WebElement (session=\"13f0699b80e5ee5b63c4def1f289c787\", element=\"bb7e221c-3034-4fcb-b4ed-05cd6877373a\")>, <selenium.webdriver.remote.webelement.WebElement (session=\"13f0699b80e5ee5b63c4def1f289c787\", element=\"5cdc7123-1dc6-4f24-af9f-ae70cd0df192\")>, <selenium.webdriver.remote.webelement.WebElement (session=\"13f0699b80e5ee5b63c4def1f289c787\", element=\"8ec9c26d-fe6b-4657-bd70-e68d4be29596\")>, <selenium.webdriver.remote.webelement.WebElement (session=\"13f0699b80e5ee5b63c4def1f289c787\", element=\"1cc6b964-c29d-45fa-9a28-2939610781ff\")>, <selenium.webdriver.remote.webelement.WebElement (session=\"13f0699b80e5ee5b63c4def1f289c787\", element=\"79ea749f-7422-474f-961c-fcf9705ea9d2\")>, <selenium.webdriver.remote.webelement.WebElement (session=\"13f0699b80e5ee5b63c4def1f289c787\", element=\"f388f123-f481-4d05-8374-adfb193ab993\")>, <selenium.webdriver.remote.webelement.WebElement (session=\"13f0699b80e5ee5b63c4def1f289c787\", element=\"088ef648-a96c-4aa7-86d5-87c90f6b5d19\")>, <selenium.webdriver.remote.webelement.WebElement (session=\"13f0699b80e5ee5b63c4def1f289c787\", element=\"3d341f27-0072-412e-b01e-72f6b0a58af7\")>, <selenium.webdriver.remote.webelement.WebElement (session=\"13f0699b80e5ee5b63c4def1f289c787\", element=\"7dcecfb1-2aee-49ea-aa7d-a39e512e7e5f\")>, <selenium.webdriver.remote.webelement.WebElement (session=\"13f0699b80e5ee5b63c4def1f289c787\", element=\"3dedfbca-9c76-471a-828d-283d84e79007\")>, <selenium.webdriver.remote.webelement.WebElement (session=\"13f0699b80e5ee5b63c4def1f289c787\", element=\"5d08a7e1-cd01-40db-868a-c45edc785f9d\")>, <selenium.webdriver.remote.webelement.WebElement (session=\"13f0699b80e5ee5b63c4def1f289c787\", element=\"1e1f5818-b796-4860-bedc-4692eee292ae\")>, <selenium.webdriver.remote.webelement.WebElement (session=\"13f0699b80e5ee5b63c4def1f289c787\", element=\"fa005797-a31b-471c-8a6f-e42e985bd5c4\")>, <selenium.webdriver.remote.webelement.WebElement (session=\"13f0699b80e5ee5b63c4def1f289c787\", element=\"83e747f6-4205-44fc-9625-8858da7dc50d\")>, <selenium.webdriver.remote.webelement.WebElement (session=\"13f0699b80e5ee5b63c4def1f289c787\", element=\"09f6afe5-bd2d-4d61-baed-673dcfa47bc2\")>, <selenium.webdriver.remote.webelement.WebElement (session=\"13f0699b80e5ee5b63c4def1f289c787\", element=\"95e41594-dfaf-4c5d-b808-98c48bfb28af\")>, <selenium.webdriver.remote.webelement.WebElement (session=\"13f0699b80e5ee5b63c4def1f289c787\", element=\"a484665f-4bc8-4b6e-9cb9-99ea3abf2523\")>, <selenium.webdriver.remote.webelement.WebElement (session=\"13f0699b80e5ee5b63c4def1f289c787\", element=\"326126ff-b264-4258-b7e1-724d80c7859c\")>, <selenium.webdriver.remote.webelement.WebElement (session=\"13f0699b80e5ee5b63c4def1f289c787\", element=\"b850acc4-78b2-4270-af15-0e03eb3b4f0a\")>, <selenium.webdriver.remote.webelement.WebElement (session=\"13f0699b80e5ee5b63c4def1f289c787\", element=\"8bc4ef44-fd99-4b46-8062-c06e7656ad8a\")>, <selenium.webdriver.remote.webelement.WebElement (session=\"13f0699b80e5ee5b63c4def1f289c787\", element=\"eba6ecea-ed51-4263-92e6-c9e72569da13\")>, <selenium.webdriver.remote.webelement.WebElement (session=\"13f0699b80e5ee5b63c4def1f289c787\", element=\"f573b3a8-776f-4ed9-b619-4efc8afc7f84\")>, <selenium.webdriver.remote.webelement.WebElement (session=\"13f0699b80e5ee5b63c4def1f289c787\", element=\"24b0ee27-7ef3-41eb-9581-b4db2b732b40\")>, <selenium.webdriver.remote.webelement.WebElement (session=\"13f0699b80e5ee5b63c4def1f289c787\", element=\"b938b536-8c4a-4f0d-ba03-4a623cd0826f\")>, <selenium.webdriver.remote.webelement.WebElement (session=\"13f0699b80e5ee5b63c4def1f289c787\", element=\"cc2e67d7-793c-43b9-a8a8-7a59dc87106a\")>, <selenium.webdriver.remote.webelement.WebElement (session=\"13f0699b80e5ee5b63c4def1f289c787\", element=\"43fdb962-b572-4a8a-9169-b190b2325fa0\")>, <selenium.webdriver.remote.webelement.WebElement (session=\"13f0699b80e5ee5b63c4def1f289c787\", element=\"ec6a7c03-a892-4e3d-a1a4-99686997fe96\")>]\n"
     ]
    }
   ],
   "source": [
    "#i want to select all colgroup tags\n",
    "colgroup = driver.find_elements(By.TAG_NAME, \"tbody\")\n",
    "#I want to select all tr in the colgroup\n",
    "tr = driver.find_elements(By.XPATH, \".//tbody/tr\")\n",
    "print(tr)\n"
   ]
  },
  {
   "cell_type": "code",
   "execution_count": null,
   "metadata": {},
   "outputs": [],
   "source": []
  }
 ],
 "metadata": {
  "kernelspec": {
   "display_name": "Python 3.9.6 ('venv': venv)",
   "language": "python",
   "name": "python3"
  },
  "language_info": {
   "codemirror_mode": {
    "name": "ipython",
    "version": 3
   },
   "file_extension": ".py",
   "mimetype": "text/x-python",
   "name": "python",
   "nbconvert_exporter": "python",
   "pygments_lexer": "ipython3",
   "version": "3.9.6"
  },
  "orig_nbformat": 4,
  "vscode": {
   "interpreter": {
    "hash": "034bbb7a0d4ead09c587395bc91a01e0c6a8732c95c0845c90e8491e6df32e84"
   }
  }
 },
 "nbformat": 4,
 "nbformat_minor": 2
}
